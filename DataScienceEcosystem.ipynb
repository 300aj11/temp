{
 "cells": [
  {
   "cell_type": "markdown",
   "id": "66a0bc61-75b6-4772-836d-a134959e22e9",
   "metadata": {},
   "source": [
    "# Data Science Tools and Ecosystem"
   ]
  },
  {
   "attachments": {},
   "cell_type": "markdown",
   "id": "ac37ca8c-aa19-498b-8bff-3f8ece2c2e4c",
   "metadata": {},
   "source": [
    "In this notebook, we provide a comprehensive overview of essential Data Science tools and their ecosystems, covering key programming languages, libraries, frameworks, and platforms that facilitate data analysis, machine learning, and visualization. "
   ]
  },
  {
   "cell_type": "markdown",
   "id": "f24fc195-6cae-442d-abd7-d71c7b70921b",
   "metadata": {},
   "source": [
    "**Objectives:**\n",
    "- List popular languages for Data Science.\n",
    "- List commonly used libraries for Data Science.\n",
    "- Demonstrate simple arithmetic operations in Python."
   ]
  },
  {
   "cell_type": "markdown",
   "id": "25967105-8ebe-49ea-af32-1c5101b050fa",
   "metadata": {},
   "source": [
    "Some of the popular languages that Data Scientists use are:\n",
    "\n",
    "1. **Python**: Known for its simplicity, flexibility, and extensive libraries (e.g., NumPy, pandas, scikit-learn), Python is a favorite among data scientists for tasks such as data analysis, machine learning, and visualization.\n",
    "2. **R**: A popular choice for statistical computing and data visualization, R is widely used in academia and research for its robust libraries (e.g., dplyr, tidyr, ggplot2) and ease of use.\n",
    "3. **SQL**: As a standard language for managing relational databases, SQL is essential for data scientists to extract, manipulate, and analyze data stored in databases."
   ]
  },
  {
   "cell_type": "markdown",
   "id": "b67e54e1-88fe-4921-ae33-c82c3623544a",
   "metadata": {},
   "source": [
    "Some of the commonly used libraries used by Data Scientists include:\n",
    "\n",
    "1. **NumPy**: A fundamental package for numerical computing in Python, NumPy provides support for large, multi-dimensional arrays and matrices, along with a collection of mathematical functions to operate on these arrays.\n",
    "2. **pandas**: This library offers data structures and data analysis tools for Python, making it easy to manipulate and analyze structured data. It is particularly known for its DataFrame object, which is similar to a table in a database or a spreadsheet.\n",
    "3. **Matplotlib**: A widely used plotting library for Python, Matplotlib enables data scientists to create static, interactive, and animated visualizations in Python. It is highly customizable and works well with NumPy and pandas.\n",
    "4. **scikit-learn**: A powerful library for machine learning in Python, scikit-learn provides simple and efficient tools for data mining and data analysis, including classification, regression, clustering, and dimensionality reduction."
   ]
  },
  {
   "cell_type": "markdown",
   "id": "2fdb5bac-e4d9-46e2-815f-3e0b2bf75945",
   "metadata": {},
   "source": [
    "| Data Science Tools |\n",
    "| --- |\n",
    "| Jupyter Notebook |\n",
    "| Apache Zeppelin |\n",
    "| R Studio |"
   ]
  },
  {
   "cell_type": "markdown",
   "id": "286aab7e-1db8-4f2c-80a1-2344ff6cabad",
   "metadata": {},
   "source": [
    "### Below are a few examples of evaluating arithmetic expressions in Python"
   ]
  },
  {
   "cell_type": "code",
   "execution_count": 1,
   "id": "c91ba8b8-5e9f-4852-9d13-4876f36542e4",
   "metadata": {},
   "outputs": [
    {
     "name": "stdout",
     "output_type": "stream",
     "text": [
      "17\n"
     ]
    }
   ],
   "source": [
    "# This is a simple arithmetic expression to multiply then add integers.\n",
    "result = (3 * 4) + 5\n",
    "print(result)  # Expected Output: 17"
   ]
  },
  {
   "cell_type": "code",
   "execution_count": 2,
   "id": "753dbebb-9c9e-4215-8119-2325b6fca63c",
   "metadata": {},
   "outputs": [
    {
     "name": "stdout",
     "output_type": "stream",
     "text": [
      "3.3333333333333335\n"
     ]
    }
   ],
   "source": [
    "# This will convert 200 minutes to hours by dividing by 60.\n",
    "minutes = 200\n",
    "hours = minutes / 60\n",
    "print(hours)  # Expected Output: 3.3333..."
   ]
  },
  {
   "cell_type": "markdown",
   "id": "a0bc4d83-3959-4fb7-8e23-67d9d2c2bb85",
   "metadata": {},
   "source": [
    "## Author\n",
    "Mohammad Ajmal Siddiqui"
   ]
  },
  {
   "cell_type": "code",
   "execution_count": null,
   "id": "a87cf039-c163-438f-b204-cc9393bdce7c",
   "metadata": {},
   "outputs": [],
   "source": []
  }
 ],
 "metadata": {
  "kernelspec": {
   "display_name": "Python 3 (ipykernel)",
   "language": "python",
   "name": "python3"
  },
  "language_info": {
   "codemirror_mode": {
    "name": "ipython",
    "version": 3
   },
   "file_extension": ".py",
   "mimetype": "text/x-python",
   "name": "python",
   "nbconvert_exporter": "python",
   "pygments_lexer": "ipython3",
   "version": "3.11.9"
  }
 },
 "nbformat": 4,
 "nbformat_minor": 5
}
